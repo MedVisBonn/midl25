{
 "cells": [
  {
   "cell_type": "code",
   "execution_count": 1,
   "metadata": {},
   "outputs": [],
   "source": [
    "%load_ext autoreload\n",
    "%autoreload 2\n",
    "### Set CUDA device\n",
    "import os\n",
    "os.environ['CUDA_VISIBLE_DEVICES'] = '7'"
   ]
  },
  {
   "cell_type": "code",
   "execution_count": 2,
   "metadata": {},
   "outputs": [],
   "source": [
    "import sys, os\n",
    "import pickle as pkl\n",
    "from omegaconf import OmegaConf\n",
    "import hydra\n",
    "from time import time\n",
    "sys.path.append('../')\n",
    "from data_utils import get_data_module\n",
    "from model.unet import get_unet_module\n",
    "from model.score_adapter import (\n",
    "    get_score_prediction_module, \n",
    ")"
   ]
  },
  {
   "cell_type": "code",
   "execution_count": null,
   "metadata": {},
   "outputs": [
    {
     "name": "stdout",
     "output_type": "stream",
     "text": [
      "32768 8 64 64\n",
      "4196936\n",
      "32768 8 64 64\n",
      "0.0009477243423461914 Seconds per image for forward passes before finetuning\n",
      "0.014215865135192872 Seconds per 15 images for forward passes before finetuning\n",
      "0.0018232946395874024 Seconds per image for forward passes after finetuning + unet\n",
      "0.027349419593811035 Seconds per 15 images for forward passes after finetuning + unet\n",
      "73728 8 96 96\n",
      "9439816\n",
      "73728 8 96 96\n",
      "0.002008889039357503 Seconds per image for forward passes before finetuning\n",
      "0.030133335590362548 Seconds per 15 images for forward passes before finetuning\n",
      "0.003857900937398275 Seconds per image for forward passes after finetuning + unet\n",
      "0.057868514060974124 Seconds per 15 images for forward passes after finetuning + unet\n"
     ]
    }
   ],
   "source": [
    "\n",
    "for dataset in ['mnmv2', 'pmri']:\n",
    "    # configs\n",
    "    unet_cfg = OmegaConf.load('../configs/unet/monai_unet.yaml')\n",
    "    UNET_CKPTS = {\n",
    "        \"mnmv2\": 'mnmv2_symphony_dropout-0-1_2025-01-14-15-19', \n",
    "        'pmri': 'pmri_runmc_dropout-0-1_2025-01-14-15-58',\n",
    "    }\n",
    "\n",
    "    if dataset == 'mnmv2':\n",
    "        unet_cfg.out_channels = 4\n",
    "        num_classes = 4\n",
    "        data_cfg = OmegaConf.load('../configs/data/mnmv2.yaml')\n",
    "        domain = 'Symphony'\n",
    "\n",
    "    else:\n",
    "        unet_cfg.out_channels = 1\n",
    "        num_classes = 2\n",
    "        data_cfg = OmegaConf.load('../configs/data/pmri.yaml')\n",
    "        domain = 'RUNMC'\n",
    "        sigma = 6.9899\n",
    "\n",
    "# # dataset = 'mnmv2'\n",
    "# unet_cfg.out_channels = 4\n",
    "# num_classes = 4\n",
    "# data_cfg = OmegaConf.load('../configs/data/mnmv2.yaml')\n",
    "# data_cfg.domain = 'Symphony'\n",
    "# data_cfg.non_empty_target = True\n",
    "# unet_ckpt = UNET_CKPTS[data_cfg.dataset] #[cfg.data.domain]\n",
    "# unet_cfg.checkpoint_path = f'../../pre-trained/monai-unets/{unet_ckpt}.ckpt'\n",
    "\n",
    "    model_cfg = OmegaConf.load('../configs/model/score_predictor.yaml')\n",
    "    model_cfg.num_classes = num_classes\n",
    "    model_cfg.adversarial_training=True\n",
    "    model_cfg.adversarial_prob = 0.5\n",
    "    model_cfg.adversarial_step_size = 0.1\n",
    "    model_cfg.loss_fn = 'dice'\n",
    "    model_cfg.non_adversarial_target = False\n",
    "\n",
    "    # init datamodule\n",
    "    datamodule = get_data_module(\n",
    "        cfg=data_cfg\n",
    "    )\n",
    "    ckpt = UNET_CKPTS[data_cfg.dataset]\n",
    "        \n",
    "    unet_cfg.checkpoint_path = f'../../{unet_cfg.checkpoint_dir}{ckpt}.ckpt'\n",
    "    unet = get_unet_module(\n",
    "        cfg=unet_cfg,\n",
    "        metadata=OmegaConf.to_container(unet_cfg),\n",
    "        load_from_checkpoint=True\n",
    "    ).model\n",
    "\n",
    "    model = get_score_prediction_module(\n",
    "        data_cfg=data_cfg,\n",
    "        model_cfg=model_cfg,\n",
    "        unet=unet,\n",
    "        metadata=OmegaConf.to_container(model_cfg), #TODO\n",
    "        ckpt=None\n",
    "    )\n",
    "\n",
    "    datamodule.setup('fit')\n",
    "\n",
    "    if dataset == 'mnmv2':\n",
    "        data = datamodule.mnm_train\n",
    "\n",
    "    else:\n",
    "        data = datamodule.pmri_train\n",
    "\n",
    "    batch_size = 15\n",
    "    input = data[10:11]['input'].repeat(batch_size, 1, 1 ,1)\n",
    "\n",
    "    start = time()\n",
    "    for i in range(100):\n",
    "        _ = model(input.cuda())\n",
    "\n",
    "    time_taken = time() - start\n",
    "    print(f'{time_taken / (100 * 15)} Seconds per image for forward passes before finetuning')\n",
    "    print(f'{time_taken / (100)} Seconds per 15 images for forward passes before finetuning')\n",
    "\n",
    "    start = time()\n",
    "    for i in range(100):\n",
    "        _ = unet(input.cuda())\n",
    "        _ = model(input.cuda())\n",
    "\n",
    "    time_taken = time() - start\n",
    "    print(f'{time_taken / (100 * 15)} Seconds per image for forward passes after finetuning + unet')\n",
    "    print(f'{time_taken / (100)} Seconds per 15 images for forward passes after finetuning + unet')\n",
    "\n",
    "# ckpt = '../../pre-trained/score-predictors/mnmv2_Symphony_dice_adversarial_2025-01-15-11-29.ckpt'\n",
    "# ckpt = '../../pre-trained/score-predictors/mnmv2_Symphony_dice_normal_2025-01-15-11-27.ckpt'"
   ]
  },
  {
   "cell_type": "code",
   "execution_count": 22,
   "metadata": {},
   "outputs": [
    {
     "name": "stdout",
     "output_type": "stream",
     "text": [
      "32768 8 64 64\n",
      "4196936\n",
      "32768 8 64 64\n"
     ]
    }
   ],
   "source": [
    "\n",
    "# init datamodule\n",
    "datamodule = get_data_module(\n",
    "    cfg=data_cfg\n",
    ")\n",
    "\n",
    "unet = get_unet_module(\n",
    "    cfg=unet_cfg,\n",
    "    metadata=OmegaConf.to_container(unet_cfg),\n",
    "    load_from_checkpoint=True\n",
    ").model\n",
    "\n",
    "model = get_score_prediction_module(\n",
    "    data_cfg=data_cfg,\n",
    "    model_cfg=model_cfg,\n",
    "    unet=unet,\n",
    "    metadata=OmegaConf.to_container(model_cfg), #TODO\n",
    "    ckpt=None\n",
    ")"
   ]
  },
  {
   "cell_type": "code",
   "execution_count": 7,
   "metadata": {},
   "outputs": [],
   "source": [
    "datamodule.setup('fit')"
   ]
  },
  {
   "cell_type": "code",
   "execution_count": 12,
   "metadata": {},
   "outputs": [],
   "source": [
    "data = datamodule.mnm_train\n",
    "batch_size = 15\n",
    "input = data[10:11]['input'].repeat(batch_size, 1, 1 ,1)"
   ]
  },
  {
   "cell_type": "code",
   "execution_count": 20,
   "metadata": {},
   "outputs": [],
   "source": [
    "start = time()\n",
    "for i in range(100):\n",
    "    _ = model(input.cuda()).cpu().detach().numpy()\n",
    "\n",
    "end = time() - start"
   ]
  },
  {
   "cell_type": "code",
   "execution_count": 21,
   "metadata": {},
   "outputs": [
    {
     "data": {
      "text/plain": [
       "0.0009508248964945475"
      ]
     },
     "execution_count": 21,
     "metadata": {},
     "output_type": "execute_result"
    }
   ],
   "source": [
    "end / ( 100 * 15)"
   ]
  },
  {
   "cell_type": "code",
   "execution_count": null,
   "metadata": {},
   "outputs": [],
   "source": []
  }
 ],
 "metadata": {
  "kernelspec": {
   "display_name": "Python 3",
   "language": "python",
   "name": "python3"
  },
  "language_info": {
   "codemirror_mode": {
    "name": "ipython",
    "version": 3
   },
   "file_extension": ".py",
   "mimetype": "text/x-python",
   "name": "python",
   "nbconvert_exporter": "python",
   "pygments_lexer": "ipython3",
   "version": "3.10.12"
  }
 },
 "nbformat": 4,
 "nbformat_minor": 2
}
