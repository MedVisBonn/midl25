{
 "cells": [
  {
   "cell_type": "code",
   "execution_count": 1,
   "metadata": {},
   "outputs": [],
   "source": [
    "%load_ext autoreload\n",
    "%autoreload 2\n",
    "### Set CUDA device\n",
    "import os\n",
    "os.environ['CUDA_VISIBLE_DEVICES'] = '2'"
   ]
  },
  {
   "cell_type": "code",
   "execution_count": null,
   "metadata": {},
   "outputs": [],
   "source": [
    "import sys, os\n",
    "from omegaconf import OmegaConf\n",
    "import matplotlib.pyplot as plt\n",
    "import numpy as np\n",
    "from torch import (\n",
    "    sigmoid,\n",
    "    softmax,\n",
    "    stack,\n",
    "    cat,\n",
    "    corrcoef,\n",
    "    zeros,\n",
    "    sqrt,\n",
    "    tensor,\n",
    "    save,\n",
    "    log,\n",
    "    load,\n",
    "    linspace,\n",
    "    exp,\n",
    "    triu_indices,\n",
    "    manual_seed,\n",
    ")\n",
    "from time import time\n",
    "from torch.nn.functional import one_hot\n",
    "from torch.utils.data import DataLoader\n",
    "from monai.metrics import (\n",
    "    DiceMetric,\n",
    "    compute_hausdorff_distance,\n",
    "    SurfaceDiceMetric\n",
    ")\n",
    "from tqdm import tqdm\n",
    "sys.path.append('../')\n",
    "from data_utils import get_data_module, Transforms\n",
    "from model.unet import get_unet_module\n",
    "from losses import dice_per_class_loss, surface_loss"
   ]
  },
  {
   "cell_type": "code",
   "execution_count": 3,
   "metadata": {},
   "outputs": [],
   "source": [
    "def pairwise_dice(\n",
    "    predicted_segmentation, \n",
    "    num_classes\n",
    "):  \n",
    "    dice_scores = []\n",
    "    batch_size = predicted_segmentation.shape[0]\n",
    "    predicted_segmentation = one_hot(predicted_segmentation.squeeze(1), num_classes=num_classes).moveaxis(-1, 1)\n",
    "    N = predicted_segmentation.shape[0]\n",
    "    i_idx, j_idx = triu_indices(N, N, offset=1)\n",
    "\n",
    "    pred = predicted_segmentation[i_idx]\n",
    "    ref = predicted_segmentation[j_idx]\n",
    "\n",
    "    dice_scores = DiceMetric(\n",
    "        include_background=True, \n",
    "        reduction=\"none\",\n",
    "        num_classes=num_classes,\n",
    "        ignore_empty=False\n",
    "    )(pred, ref)[..., 1:].nanmean(-1).nan_to_num(0).cpu().detach().mean()\n",
    "\n",
    "    return dice_scores\n",
    "\n",
    "    # for i in range(batch_size):\n",
    "    #     for j in range(i+1, batch_size):\n",
    "    #         dice = DiceMetric(\n",
    "    #             include_background=True, \n",
    "    #             reduction=\"none\",\n",
    "    #             num_classes=num_classes,\n",
    "    #             ignore_empty=False\n",
    "    #         )(predicted_segmentation[i].unsqueeze(0), predicted_segmentation[j].unsqueeze(0))[..., 1:].nanmean(-1).nan_to_num(0).cpu().detach()\n",
    "    #         dice_scores.append(dice)\n",
    "\n",
    "    # return tensor(dice_scores).mean()\n",
    "\n",
    "\n",
    "def pairwise_hausdorff(\n",
    "    predicted_segmentation, \n",
    "    num_classes,\n",
    "    sigma: float\n",
    "):  \n",
    "    hausdorff_scores = []\n",
    "    predicted_segmentation = one_hot(predicted_segmentation.squeeze(1), num_classes=num_classes).moveaxis(-1, 1)\n",
    "    \n",
    "    batch_size = predicted_segmentation.shape[0]\n",
    "    for i in range(batch_size):\n",
    "        for j in range(i+1, batch_size):\n",
    "            hausdorff = compute_hausdorff_distance(\n",
    "                y_pred=predicted_segmentation[i:i+1],\n",
    "                y=predicted_segmentation[j:j+1],\n",
    "                include_background=True,\n",
    "                percentile=95,\n",
    "            ).detach()\n",
    "            hausdorff = exp(-(hausdorff ** 2) / (2 * sigma**2))[..., 1:].nanmean(-1).nan_to_num(0).cpu().detach()\n",
    "            hausdorff_scores.append(hausdorff)\n",
    "\n",
    "    return tensor(hausdorff_scores).mean()\n",
    "\n",
    "\n",
    "def pairwise_surface_dice(\n",
    "    predicted_segmentation, \n",
    "    num_classes,\n",
    "):  \n",
    "    surface_scores = []\n",
    "    predicted_segmentation = one_hot(predicted_segmentation.squeeze(1), num_classes=num_classes).moveaxis(-1, 1)\n",
    "    N = predicted_segmentation.shape[0]\n",
    "    i_idx, j_idx = triu_indices(N, N, offset=1)\n",
    "\n",
    "    pred = predicted_segmentation[i_idx]\n",
    "    ref = predicted_segmentation[j_idx]\n",
    "\n",
    "    surface_scores = SurfaceDiceMetric(\n",
    "        include_background=True, \n",
    "        reduction=\"none\",\n",
    "        class_thresholds=[3] * num_classes,\n",
    "    )(pred, ref).detach()[..., 1:].nanmean(-1).nan_to_num(0).cpu().detach().mean()\n",
    "\n",
    "    return surface_scores\n",
    "    # batch_size = predicted_segmentation.shape[0]\n",
    "    # for i in range(batch_size):\n",
    "    #     for j in range(i+1, batch_size):\n",
    "    #         surface = SurfaceDiceMetric(\n",
    "    #             include_background=True, \n",
    "    #             reduction=\"none\",\n",
    "    #             class_thresholds=[3] * num_classes,\n",
    "    #         )(predicted_segmentation[i:i+1], predicted_segmentation[j:j+1]).detach()\n",
    "    #         surface=surface[..., 1:].nanmean(-1).nan_to_num(0).cpu().detach()\n",
    "    #         surface_scores.append(surface)\n",
    "\n",
    "    # return tensor(surface_scores).mean()"
   ]
  },
  {
   "cell_type": "code",
   "execution_count": null,
   "metadata": {},
   "outputs": [],
   "source": [
    "\n",
    "\n",
    "UNET_CKPTS = {\n",
    "    \"mnmv2\": 'mnmv2_symphony_dropout-0-1_2025-01-14-15-19', \n",
    "    'pmri': 'pmri_runmc_dropout-0-1_2025-01-14-15-58',\n",
    "}\n",
    "\n",
    "batch_size = 2\n",
    "\n",
    "eval_metrics = {\n",
    "    'dice': dice_per_class_loss,\n",
    "    'surface': surface_loss\n",
    "}\n",
    "\n",
    "unet_cfg = OmegaConf.load('../configs/unet/monai_unet.yaml')\n",
    "\n",
    "\n",
    "dataset = 'mnmv2'\n",
    "\n",
    "if dataset == 'mnmv2':\n",
    "    unet_cfg.out_channels = 4\n",
    "    num_classes = 4\n",
    "    data_cfg = OmegaConf.load('../configs/data/mnmv2.yaml')\n",
    "    domain = 'Symphony'\n",
    "\n",
    "else:\n",
    "    unet_cfg.out_channels = 1\n",
    "    num_classes = 2\n",
    "    data_cfg = OmegaConf.load('../configs/data/pmri.yaml')\n",
    "    domain = 'RUNMC'\n",
    "    sigma = 6.9899\n",
    "\n",
    "# for domain in ['siemens', 'ge', 'philips']:\n",
    "print(f\"Train Vendor: {domain}\")\n",
    "results = {}\n",
    "data_cfg.dataset = dataset\n",
    "data_cfg.domain = domain\n",
    "data_cfg.non_empty_target = True\n",
    "\n",
    "# datamodule = get_data_module(\n",
    "#     cfg=data_cfg\n",
    "# )\n",
    "\n",
    "# datamodule.setup('test')\n",
    "\n",
    "ckpt = UNET_CKPTS[data_cfg.dataset]\n",
    "unet_cfg.checkpoint_path = f'../../{unet_cfg.checkpoint_dir}{ckpt}.ckpt'\n",
    "unet_cfg.dropout = 0.1\n",
    "\n",
    "unet = get_unet_module(\n",
    "    cfg=unet_cfg,\n",
    "    metadata=OmegaConf.to_container(unet_cfg),\n",
    "    load_from_checkpoint=True\n",
    ").model\n",
    "\n",
    "test_domain = 'Trio'\n",
    "test_dl = datamodule.test_dataloader()[test_domain]\n",
    "\n",
    "\n",
    "\n",
    "# print(f\"test_domain: {test_domain}\")\n",
    "# scores = {\n",
    "#     'dice': [],\n",
    "#     'surface': [],\n",
    "#     'dice_agreement': [],\n",
    "#     'surface_agreement': []\n",
    "# }\n",
    "\n",
    "for iteration in range(10):\n",
    "    scores = {\n",
    "        'dice': [],\n",
    "        'surface': [],\n",
    "        'dice_agreement': [],\n",
    "        'surface_agreement': []\n",
    "    }\n",
    "\n",
    "    print(f\"test_domain: {test_domain}\")\n",
    "    test_dataset = test_dl.dataset\n",
    "    test_dl = DataLoader(\n",
    "        test_dataset,\n",
    "        batch_size=1,\n",
    "        shuffle=False,\n",
    "    )\n",
    "    for batch in tqdm(test_dl):\n",
    "        input = batch['input'].repeat(batch_size, 1, 1 ,1)\n",
    "        target = batch['target']\n",
    "\n",
    "        unet.eval()\n",
    "        logits = unet(input[:1].cuda())\n",
    "        for m in unet.modules():\n",
    "            if m.__class__.__name__.startswith('Dropout'):\n",
    "                m.train()\n",
    "\n",
    "        # manual_seed(iteration)\n",
    "        logits_dropout = unet(input.cuda())\n",
    "\n",
    "        num_classes = max(logits_dropout.shape[1], 2)\n",
    "        if num_classes > 2:\n",
    "            predictions = logits.argmax(1, keepdim=True)\n",
    "            predictions_dropout = logits_dropout.argmax(1, keepdim=True)\n",
    "            \n",
    "        else:\n",
    "            predictions = (logits > 0) * 1\n",
    "            predictions_dropout = (logits_dropout > 0) * 1\n",
    "\n",
    "        similarity = predictions_dropout.float().std(0).mean()\n",
    "        # calculate dice agreement\n",
    "        dice_agreement = pairwise_dice(predictions_dropout, num_classes=num_classes)\n",
    "        surface_agreement = pairwise_surface_dice(predictions_dropout, num_classes=num_classes)\n",
    "        scores['dice_agreement'].append(dice_agreement.detach().cpu().view(1,))\n",
    "        scores['surface_agreement'].append(surface_agreement.detach().cpu().view(1,))\n",
    "\n",
    "        for key, fn in eval_metrics.items():\n",
    "            _, _, true_score = fn(\n",
    "                predicted_segmentation=predictions, \n",
    "                target_segmentation=target.cuda(),\n",
    "                prediction=zeros((input.size(0), 1, num_classes)).cuda(),\n",
    "                num_classes=num_classes,\n",
    "                sigma=0,\n",
    "                return_scores=True\n",
    "            )\n",
    "\n",
    "            scores[key].append(true_score.squeeze(1).detach().cpu())\n",
    "\n",
    "        # break\n",
    "\n",
    "    scores = {\n",
    "        key: cat(scores[key]) for key in scores.keys()\n",
    "    }\n",
    "\n",
    "    # calculate correlation between entropy and dice/hausdorff\n",
    "    corr_dice = corrcoef(stack([scores['dice_agreement'], scores['dice']], dim=0))[0,1]\n",
    "    corr_surface = corrcoef(stack([scores['surface_agreement'], scores['surface']], dim=0))[0,1]\n",
    "\n",
    "    print(f\"Correlation Dice: {corr_dice} | Correlation Surface: {corr_surface}\")"
   ]
  },
  {
   "cell_type": "code",
   "execution_count": 19,
   "metadata": {},
   "outputs": [
    {
     "name": "stdout",
     "output_type": "stream",
     "text": [
      "Dataset: pmri\n",
      "Train Vendor: RUNMC\n",
      "test_domain: BMC\n"
     ]
    },
    {
     "name": "stderr",
     "output_type": "stream",
     "text": [
      "100%|██████████| 324/324 [00:11<00:00, 28.23it/s]\n"
     ]
    },
    {
     "name": "stdout",
     "output_type": "stream",
     "text": [
      "Correlation Dice: 0.7855059504508972 | Correlation Surface: 0.5963176488876343\n",
      "test_domain: I2CVB\n"
     ]
    },
    {
     "name": "stderr",
     "output_type": "stream",
     "text": [
      "100%|██████████| 505/505 [00:17<00:00, 28.29it/s]\n"
     ]
    },
    {
     "name": "stdout",
     "output_type": "stream",
     "text": [
      "Correlation Dice: 0.5624947547912598 | Correlation Surface: 0.48880690336227417\n",
      "test_domain: UCL\n"
     ]
    },
    {
     "name": "stderr",
     "output_type": "stream",
     "text": [
      "100%|██████████| 171/171 [00:06<00:00, 28.15it/s]\n"
     ]
    },
    {
     "name": "stdout",
     "output_type": "stream",
     "text": [
      "Correlation Dice: 0.7880407571792603 | Correlation Surface: 0.6342188119888306\n",
      "test_domain: BIDMC\n"
     ]
    },
    {
     "name": "stderr",
     "output_type": "stream",
     "text": [
      "100%|██████████| 197/197 [00:07<00:00, 28.14it/s]\n"
     ]
    },
    {
     "name": "stdout",
     "output_type": "stream",
     "text": [
      "Correlation Dice: 0.17424719035625458 | Correlation Surface: 0.17736348509788513\n",
      "test_domain: HK\n"
     ]
    },
    {
     "name": "stderr",
     "output_type": "stream",
     "text": [
      "100%|██████████| 157/157 [00:05<00:00, 28.38it/s]\n"
     ]
    },
    {
     "name": "stdout",
     "output_type": "stream",
     "text": [
      "Correlation Dice: 0.7673707008361816 | Correlation Surface: 0.40917640924453735\n",
      "Dataset: pmri\n",
      "Train Vendor: RUNMC\n",
      "test_domain: BMC\n"
     ]
    },
    {
     "name": "stderr",
     "output_type": "stream",
     "text": [
      "100%|██████████| 324/324 [00:11<00:00, 27.78it/s]\n"
     ]
    },
    {
     "name": "stdout",
     "output_type": "stream",
     "text": [
      "Correlation Dice: 0.7627540826797485 | Correlation Surface: 0.5852421522140503\n",
      "test_domain: I2CVB\n"
     ]
    },
    {
     "name": "stderr",
     "output_type": "stream",
     "text": [
      "100%|██████████| 505/505 [00:18<00:00, 27.52it/s]\n"
     ]
    },
    {
     "name": "stdout",
     "output_type": "stream",
     "text": [
      "Correlation Dice: 0.5695006847381592 | Correlation Surface: 0.4669407606124878\n",
      "test_domain: UCL\n"
     ]
    },
    {
     "name": "stderr",
     "output_type": "stream",
     "text": [
      "100%|██████████| 171/171 [00:06<00:00, 27.59it/s]\n"
     ]
    },
    {
     "name": "stdout",
     "output_type": "stream",
     "text": [
      "Correlation Dice: 0.756831169128418 | Correlation Surface: 0.6367197632789612\n",
      "test_domain: BIDMC\n"
     ]
    },
    {
     "name": "stderr",
     "output_type": "stream",
     "text": [
      "100%|██████████| 197/197 [00:06<00:00, 28.35it/s]\n"
     ]
    },
    {
     "name": "stdout",
     "output_type": "stream",
     "text": [
      "Correlation Dice: 0.17942918837070465 | Correlation Surface: 0.16730129718780518\n",
      "test_domain: HK\n"
     ]
    },
    {
     "name": "stderr",
     "output_type": "stream",
     "text": [
      "100%|██████████| 157/157 [00:05<00:00, 27.13it/s]\n"
     ]
    },
    {
     "name": "stdout",
     "output_type": "stream",
     "text": [
      "Correlation Dice: 0.7575271725654602 | Correlation Surface: 0.3883814513683319\n",
      "Dataset: pmri\n",
      "Train Vendor: RUNMC\n",
      "test_domain: BMC\n"
     ]
    },
    {
     "name": "stderr",
     "output_type": "stream",
     "text": [
      "100%|██████████| 324/324 [00:11<00:00, 28.46it/s]\n"
     ]
    },
    {
     "name": "stdout",
     "output_type": "stream",
     "text": [
      "Correlation Dice: 0.7550802230834961 | Correlation Surface: 0.615959644317627\n",
      "test_domain: I2CVB\n"
     ]
    },
    {
     "name": "stderr",
     "output_type": "stream",
     "text": [
      "100%|██████████| 505/505 [00:18<00:00, 27.45it/s]\n"
     ]
    },
    {
     "name": "stdout",
     "output_type": "stream",
     "text": [
      "Correlation Dice: 0.5631864070892334 | Correlation Surface: 0.49558478593826294\n",
      "test_domain: UCL\n"
     ]
    },
    {
     "name": "stderr",
     "output_type": "stream",
     "text": [
      "100%|██████████| 171/171 [00:06<00:00, 28.06it/s]\n"
     ]
    },
    {
     "name": "stdout",
     "output_type": "stream",
     "text": [
      "Correlation Dice: 0.7716273665428162 | Correlation Surface: 0.655192494392395\n",
      "test_domain: BIDMC\n"
     ]
    },
    {
     "name": "stderr",
     "output_type": "stream",
     "text": [
      "100%|██████████| 197/197 [00:07<00:00, 28.08it/s]\n"
     ]
    },
    {
     "name": "stdout",
     "output_type": "stream",
     "text": [
      "Correlation Dice: 0.15750263631343842 | Correlation Surface: 0.12678833305835724\n",
      "test_domain: HK\n"
     ]
    },
    {
     "name": "stderr",
     "output_type": "stream",
     "text": [
      "100%|██████████| 157/157 [00:05<00:00, 26.89it/s]\n"
     ]
    },
    {
     "name": "stdout",
     "output_type": "stream",
     "text": [
      "Correlation Dice: 0.7519684433937073 | Correlation Surface: 0.4254618287086487\n",
      "Dataset: pmri\n",
      "Train Vendor: RUNMC\n",
      "test_domain: BMC\n"
     ]
    },
    {
     "name": "stderr",
     "output_type": "stream",
     "text": [
      "100%|██████████| 324/324 [00:11<00:00, 28.90it/s]\n"
     ]
    },
    {
     "name": "stdout",
     "output_type": "stream",
     "text": [
      "Correlation Dice: 0.7759231925010681 | Correlation Surface: 0.6130805015563965\n",
      "test_domain: I2CVB\n"
     ]
    },
    {
     "name": "stderr",
     "output_type": "stream",
     "text": [
      "100%|██████████| 505/505 [00:17<00:00, 28.69it/s]\n"
     ]
    },
    {
     "name": "stdout",
     "output_type": "stream",
     "text": [
      "Correlation Dice: 0.5713918805122375 | Correlation Surface: 0.509616494178772\n",
      "test_domain: UCL\n"
     ]
    },
    {
     "name": "stderr",
     "output_type": "stream",
     "text": [
      "100%|██████████| 171/171 [00:05<00:00, 29.07it/s]\n"
     ]
    },
    {
     "name": "stdout",
     "output_type": "stream",
     "text": [
      "Correlation Dice: 0.7830401659011841 | Correlation Surface: 0.6543428301811218\n",
      "test_domain: BIDMC\n"
     ]
    },
    {
     "name": "stderr",
     "output_type": "stream",
     "text": [
      "100%|██████████| 197/197 [00:06<00:00, 28.66it/s]\n"
     ]
    },
    {
     "name": "stdout",
     "output_type": "stream",
     "text": [
      "Correlation Dice: 0.1883888989686966 | Correlation Surface: 0.19922161102294922\n",
      "test_domain: HK\n"
     ]
    },
    {
     "name": "stderr",
     "output_type": "stream",
     "text": [
      "100%|██████████| 157/157 [00:05<00:00, 28.17it/s]\n"
     ]
    },
    {
     "name": "stdout",
     "output_type": "stream",
     "text": [
      "Correlation Dice: 0.7747690081596375 | Correlation Surface: 0.4089813530445099\n",
      "Dataset: pmri\n",
      "Train Vendor: RUNMC\n",
      "test_domain: BMC\n"
     ]
    },
    {
     "name": "stderr",
     "output_type": "stream",
     "text": [
      "100%|██████████| 324/324 [00:11<00:00, 28.78it/s]\n"
     ]
    },
    {
     "name": "stdout",
     "output_type": "stream",
     "text": [
      "Correlation Dice: 0.7810331583023071 | Correlation Surface: 0.610005259513855\n",
      "test_domain: I2CVB\n"
     ]
    },
    {
     "name": "stderr",
     "output_type": "stream",
     "text": [
      "100%|██████████| 505/505 [00:18<00:00, 27.62it/s]\n"
     ]
    },
    {
     "name": "stdout",
     "output_type": "stream",
     "text": [
      "Correlation Dice: 0.5716392397880554 | Correlation Surface: 0.5139486193656921\n",
      "test_domain: UCL\n"
     ]
    },
    {
     "name": "stderr",
     "output_type": "stream",
     "text": [
      "100%|██████████| 171/171 [00:05<00:00, 28.55it/s]\n"
     ]
    },
    {
     "name": "stdout",
     "output_type": "stream",
     "text": [
      "Correlation Dice: 0.7739604711532593 | Correlation Surface: 0.6454976201057434\n",
      "test_domain: BIDMC\n"
     ]
    },
    {
     "name": "stderr",
     "output_type": "stream",
     "text": [
      "100%|██████████| 197/197 [00:06<00:00, 28.63it/s]\n"
     ]
    },
    {
     "name": "stdout",
     "output_type": "stream",
     "text": [
      "Correlation Dice: 0.16067102551460266 | Correlation Surface: 0.16493631899356842\n",
      "test_domain: HK\n"
     ]
    },
    {
     "name": "stderr",
     "output_type": "stream",
     "text": [
      "100%|██████████| 157/157 [00:05<00:00, 28.74it/s]"
     ]
    },
    {
     "name": "stdout",
     "output_type": "stream",
     "text": [
      "Correlation Dice: 0.7289554476737976 | Correlation Surface: 0.3832800090312958\n"
     ]
    },
    {
     "name": "stderr",
     "output_type": "stream",
     "text": [
      "\n"
     ]
    }
   ],
   "source": [
    "### OOD EVAL\n",
    "\n",
    "\n",
    "UNET_CKPTS = {\n",
    "    \"mnmv2\": 'mnmv2_symphony_dropout-0-1_2025-01-14-15-19', \n",
    "    'pmri': 'pmri_runmc_dropout-0-1_2025-01-14-15-58',\n",
    "}\n",
    "\n",
    "batch_size = 2\n",
    "\n",
    "eval_metrics = {\n",
    "    'dice': dice_per_class_loss,\n",
    "    'surface': surface_loss\n",
    "}\n",
    "\n",
    "unet_cfg = OmegaConf.load('../configs/unet/monai_unet.yaml')\n",
    "\n",
    "for it in range(0, 5):\n",
    "\n",
    "    for dataset in ['pmri']:\n",
    "        print(f\"Dataset: {dataset}\")\n",
    "\n",
    "        if dataset == 'mnmv2':\n",
    "            unet_cfg.out_channels = 4\n",
    "            num_classes = 4\n",
    "            data_cfg = OmegaConf.load('../configs/data/mnmv2.yaml')\n",
    "            domain = 'Symphony'\n",
    "\n",
    "        else:\n",
    "            unet_cfg.out_channels = 1\n",
    "            num_classes = 2\n",
    "            data_cfg = OmegaConf.load('../configs/data/pmri.yaml')\n",
    "            domain = 'RUNMC'\n",
    "            sigma = 6.9899\n",
    "\n",
    "        # for domain in ['siemens', 'ge', 'philips']:\n",
    "        print(f\"Train Vendor: {domain}\")\n",
    "        results = {}\n",
    "        data_cfg.dataset = dataset\n",
    "        data_cfg.domain = domain\n",
    "        data_cfg.non_empty_target = True\n",
    "\n",
    "        # if it == 0:\n",
    "        datamodule = get_data_module(\n",
    "            cfg=data_cfg\n",
    "        )\n",
    "\n",
    "        datamodule.setup('test')\n",
    "\n",
    "        ckpt = UNET_CKPTS[data_cfg.dataset]\n",
    "        unet_cfg.checkpoint_path = f'../../{unet_cfg.checkpoint_dir}{ckpt}.ckpt'\n",
    "        unet_cfg.dropout = 0.1\n",
    "\n",
    "        unet = get_unet_module(\n",
    "            cfg=unet_cfg,\n",
    "            metadata=OmegaConf.to_container(unet_cfg),\n",
    "            load_from_checkpoint=True\n",
    "        ).model\n",
    "\n",
    "        for test_domain, test_dl in datamodule.test_dataloader().items():\n",
    "\n",
    "            if 'train' in test_domain or 'val' in test_domain:\n",
    "                continue\n",
    "\n",
    "            test_dataset = test_dl.dataset\n",
    "            test_dl = DataLoader(\n",
    "                test_dataset,\n",
    "                batch_size=1,\n",
    "                shuffle=False,\n",
    "            )\n",
    "            print(f\"test_domain: {test_domain}\")\n",
    "            scores = {\n",
    "                'dice': [],\n",
    "                'surface': [],\n",
    "                'dice_agreement': [],\n",
    "                'surface_agreement': []\n",
    "            }\n",
    "\n",
    "            manual_seed(it)\n",
    "            for batch in tqdm(test_dl):\n",
    "                input = batch['input'].repeat(batch_size, 1, 1 ,1)\n",
    "                target = batch['target']\n",
    "\n",
    "                unet.eval()\n",
    "                logits = unet(input[:1].cuda())\n",
    "                for m in unet.modules():\n",
    "                    if m.__class__.__name__.startswith('Dropout'):\n",
    "                        m.train()\n",
    "                \n",
    "                logits_dropout = unet(input.cuda())\n",
    "            \n",
    "                num_classes = max(logits_dropout.shape[1], 2)\n",
    "                if num_classes > 2:\n",
    "                    predictions = logits.argmax(1, keepdim=True)\n",
    "                    predictions_dropout = logits_dropout.argmax(1, keepdim=True)\n",
    "                    \n",
    "                else:\n",
    "                    predictions = (logits > 0) * 1\n",
    "                    predictions_dropout = (logits_dropout > 0) * 1\n",
    "\n",
    "                similarity = predictions_dropout.float().std(0).mean()\n",
    "                # calculate dice agreement\n",
    "                dice_agreement = pairwise_dice(predictions_dropout, num_classes=num_classes)\n",
    "                surface_agreement = pairwise_surface_dice(predictions_dropout, num_classes=num_classes)\n",
    "                scores['dice_agreement'].append(dice_agreement.detach().cpu().view(1,))\n",
    "                scores['surface_agreement'].append(surface_agreement.detach().cpu().view(1,))\n",
    "\n",
    "                for key, fn in eval_metrics.items():\n",
    "                    _, _, true_score = fn(\n",
    "                        predicted_segmentation=predictions, \n",
    "                        target_segmentation=target.cuda(),\n",
    "                        prediction=zeros((input.size(0), 1, num_classes)).cuda(),\n",
    "                        num_classes=num_classes,\n",
    "                        sigma=0,\n",
    "                        return_scores=True\n",
    "                    )\n",
    "\n",
    "                    scores[key].append(true_score.squeeze(1).detach().cpu())\n",
    "\n",
    "            scores = {\n",
    "                key: cat(scores[key]) for key in scores.keys()\n",
    "            }\n",
    "\n",
    "            # calculate correlation between entropy and dice/hausdorff\n",
    "            corr_dice = corrcoef(stack([scores['dice_agreement'], scores['dice']], dim=0))[0,1]\n",
    "            corr_surface = corrcoef(stack([scores['surface_agreement'], scores['surface']], dim=0))[0,1]\n",
    "            results[test_domain] = {\n",
    "                'scores': scores,\n",
    "            }\n",
    "\n",
    "            print(f\"Correlation Dice: {corr_dice} | Correlation Surface: {corr_surface}\")\n",
    "\n",
    "        save(results, f'../../results/{dataset}_{domain}_score-agreement-{batch_size}-{it}.pt')\n"
   ]
  },
  {
   "cell_type": "code",
   "execution_count": null,
   "metadata": {},
   "outputs": [],
   "source": [
    "# 472 minutes for three eval runs across all datasets and tasks"
   ]
  },
  {
   "cell_type": "code",
   "execution_count": 7,
   "metadata": {},
   "outputs": [
    {
     "name": "stdout",
     "output_type": "stream",
     "text": [
      "Dataset: mnmv2\n",
      "Train Vendor: Symphony\n",
      "0.015183804035186767 Seconds per image for forward passes\n",
      "0.10741067409515381 Seconds per image for forward passesd + volumetric Dice agreement\n",
      "1.879386966228485 Seconds per image for forward passes + surface Dice agreement\n",
      "Dataset: pmri\n",
      "Train Vendor: RUNMC\n",
      "0.032966599464416504 Seconds per image for forward passes\n",
      "0.0803830099105835 Seconds per image for forward passesd + volumetric Dice agreement\n",
      "1.026671540737152 Seconds per image for forward passes + surface Dice agreement\n"
     ]
    }
   ],
   "source": [
    "# time measurements\n",
    "\n",
    "### OOD EVAL\n",
    "\n",
    "\n",
    "UNET_CKPTS = {\n",
    "    \"mnmv2\": 'mnmv2_symphony_dropout-0-1_2025-01-14-15-19', \n",
    "    'pmri': 'pmri_runmc_dropout-0-1_2025-01-14-15-58',\n",
    "}\n",
    "\n",
    "batch_size = 15\n",
    "\n",
    "eval_metrics = {\n",
    "    'dice': dice_per_class_loss,\n",
    "    'surface': surface_loss\n",
    "}\n",
    "\n",
    "unet_cfg = OmegaConf.load('../configs/unet/monai_unet.yaml')\n",
    "\n",
    "for dataset in ['mnmv2', 'pmri']:\n",
    "    print(f\"Dataset: {dataset}\")\n",
    "\n",
    "    if dataset == 'mnmv2':\n",
    "        unet_cfg.out_channels = 4\n",
    "        num_classes = 4\n",
    "        data_cfg = OmegaConf.load('../configs/data/mnmv2.yaml')\n",
    "        domain = 'Symphony'\n",
    "\n",
    "\n",
    "\n",
    "    else:\n",
    "        unet_cfg.out_channels = 1\n",
    "        num_classes = 2\n",
    "        data_cfg = OmegaConf.load('../configs/data/pmri.yaml')\n",
    "        domain = 'RUNMC'\n",
    "        sigma = 6.9899\n",
    "\n",
    "    # for domain in ['siemens', 'ge', 'philips']:\n",
    "    print(f\"Train Vendor: {domain}\")\n",
    "    results = {}\n",
    "    data_cfg.dataset = dataset\n",
    "    data_cfg.domain = domain\n",
    "    data_cfg.non_empty_target = True\n",
    "\n",
    "    datamodule = get_data_module(\n",
    "        cfg=data_cfg\n",
    "    )\n",
    "\n",
    "    datamodule.setup('fit')\n",
    "\n",
    "    ckpt = UNET_CKPTS[data_cfg.dataset]\n",
    "    unet_cfg.checkpoint_path = f'../../{unet_cfg.checkpoint_dir}{ckpt}.ckpt'\n",
    "    unet_cfg.dropout = 0.1\n",
    "\n",
    "    unet = get_unet_module(\n",
    "        cfg=unet_cfg,\n",
    "        metadata=OmegaConf.to_container(unet_cfg),\n",
    "        load_from_checkpoint=True\n",
    "    ).model\n",
    "    if dataset == 'mnmv2':\n",
    "        data = datamodule.mnm_train\n",
    "\n",
    "    else:\n",
    "        data = datamodule.pmri_train\n",
    "\n",
    "    input = data[10:11]['input'].repeat(batch_size, 1, 1 ,1)\n",
    "\n",
    "    start = time()\n",
    "    for i in range(100):\n",
    "        unet.train()\n",
    "        # logits = unet(input[:1].cuda())\n",
    "        # for m in unet.modules():\n",
    "        #     if m.__class__.__name__.startswith('Dropout'):\n",
    "        #         m.train()\n",
    "        _ = unet(input.cuda())\n",
    "\n",
    "    time_taken = time() - start\n",
    "\n",
    "    print(f'{time_taken / 100} Seconds per image for forward passes')\n",
    "\n",
    "    start = time()\n",
    "    for i in range(100):\n",
    "        unet.train()\n",
    "        # logits = unet(input[:1].cuda())\n",
    "        # for m in unet.modules():\n",
    "        #     if m.__class__.__name__.startswith('Dropout'):\n",
    "        #         m.train()\n",
    "        logits_dropout = unet(input.cuda())\n",
    "\n",
    "\n",
    "        num_classes = max(logits_dropout.shape[1], 2)\n",
    "        if num_classes > 2:\n",
    "            predictions_dropout = logits_dropout.argmax(1, keepdim=True)\n",
    "        else:\n",
    "            predictions_dropout = (logits_dropout > 0) * 1\n",
    "\n",
    "        dice_agreement = pairwise_dice(predictions_dropout, num_classes=num_classes)\n",
    "\n",
    "\n",
    "    time_taken = time() - start\n",
    "\n",
    "    print(f'{time_taken / 100} Seconds per image for forward passesd + volumetric Dice agreement')\n",
    "\n",
    "    start = time()\n",
    "    for i in range(100):\n",
    "        unet.train()\n",
    "        # logits = unet(input[:1].cuda())\n",
    "        # for m in unet.modules():\n",
    "        #     if m.__class__.__name__.startswith('Dropout'):\n",
    "        #         m.train()\n",
    "        logits_dropout = unet(input.cuda())\n",
    "\n",
    "\n",
    "        num_classes = max(logits_dropout.shape[1], 2)\n",
    "        if num_classes > 2:\n",
    "            predictions_dropout = logits_dropout.argmax(1, keepdim=True)\n",
    "        else:\n",
    "            predictions_dropout = (logits_dropout > 0) * 1\n",
    "\n",
    "        surface_agreement = pairwise_surface_dice(predictions_dropout, num_classes=num_classes)\n",
    "\n",
    "\n",
    "    time_taken = time() - start\n",
    "\n",
    "    print(f'{time_taken / 100} Seconds per image for forward passes + surface Dice agreement')"
   ]
  },
  {
   "cell_type": "code",
   "execution_count": null,
   "metadata": {},
   "outputs": [],
   "source": []
  },
  {
   "cell_type": "markdown",
   "metadata": {},
   "source": [
    "Dataset: mnmv2\n",
    "Train Vendor: Symphony\n",
    "0.020400516986846924 Seconds per image for forward passes\n",
    "0.12667125463485718  Seconds per image for forward passes + volumetric Dice agreement\n",
    "1.933464493751526    Seconds per image for forward passes + surface Dice agreement\n",
    "\n",
    "\n",
    "\n",
    "Dataset: pmri\n",
    "Train Vendor: RUNMC\n",
    "0.036640105247497556 Seconds per image for forward passes\n",
    "0.09966156721115112  Seconds per image for forward passes + volumetric Dice agreement\n",
    "1.0490441370010375   Seconds per image for forward passes + surface Dice agreement\n"
   ]
  },
  {
   "cell_type": "markdown",
   "metadata": {},
   "source": [
    "Dataset: mnmv2\n",
    "Train Vendor: Symphony\n",
    "0.0204 Seconds per image for forward passes\n",
    "0.1266 Seconds per image for forward passes + volumetric Dice agreement\n",
    "1.9334 Seconds per image for forward passes + surface Dice agreement\n",
    "\n",
    "Dataset: pmri\n",
    "Train Vendor: RUNMC\n",
    "0.0366 Seconds per image for forward passes\n",
    "0.0996 Seconds per image for forward passes + volumetric Dice agreement\n",
    "1.0490 Seconds per image for forward passes + surface Dice agreement"
   ]
  }
 ],
 "metadata": {
  "kernelspec": {
   "display_name": "Python 3",
   "language": "python",
   "name": "python3"
  },
  "language_info": {
   "codemirror_mode": {
    "name": "ipython",
    "version": 3
   },
   "file_extension": ".py",
   "mimetype": "text/x-python",
   "name": "python",
   "nbconvert_exporter": "python",
   "pygments_lexer": "ipython3",
   "version": "3.10.12"
  }
 },
 "nbformat": 4,
 "nbformat_minor": 2
}
