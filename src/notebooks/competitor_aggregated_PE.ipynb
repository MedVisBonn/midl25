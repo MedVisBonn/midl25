{
 "cells": [
  {
   "cell_type": "code",
   "execution_count": 1,
   "metadata": {},
   "outputs": [],
   "source": [
    "%load_ext autoreload\n",
    "%autoreload 2\n",
    "### Set CUDA device\n",
    "import os\n",
    "os.environ['CUDA_VISIBLE_DEVICES'] = '2'"
   ]
  },
  {
   "cell_type": "code",
   "execution_count": null,
   "metadata": {},
   "outputs": [],
   "source": [
    "import sys, os\n",
    "from omegaconf import OmegaConf\n",
    "import matplotlib.pyplot as plt\n",
    "import numpy as np\n",
    "from torch import (\n",
    "    sigmoid,\n",
    "    softmax,\n",
    "    stack,\n",
    "    cat,\n",
    "    corrcoef,\n",
    "    zeros,\n",
    "    sqrt,\n",
    "    tensor,\n",
    "    save,\n",
    "    log,\n",
    "    load,\n",
    "    linspace,\n",
    "    exp,\n",
    "    triu_indices,\n",
    "    manual_seed,\n",
    "    load\n",
    ")\n",
    "from torch.special import entr\n",
    "from time import time\n",
    "from torch.nn.functional import one_hot\n",
    "from torch.utils.data import DataLoader\n",
    "from monai.metrics import (\n",
    "    DiceMetric,\n",
    "    compute_hausdorff_distance,\n",
    "    SurfaceDiceMetric\n",
    ")\n",
    "from tqdm import tqdm\n",
    "sys.path.append('../')\n",
    "from model.unet import get_unet_module\n",
    "from losses import dice_per_class_loss, surface_loss\n"
   ]
  },
  {
   "cell_type": "code",
   "execution_count": null,
   "metadata": {},
   "outputs": [
    {
     "name": "stdout",
     "output_type": "stream",
     "text": [
      "Dataset: mnmv2\n",
      "Train Vendor: Symphony\n",
      "Loading Trio data\n",
      "Loading Avanto data\n",
      "Loading HDxt data\n",
      "Loading EXCITE data\n",
      "Loading Explorer data\n",
      "Loading Achieva data\n",
      "test_domain: Trio\n"
     ]
    },
    {
     "name": "stderr",
     "output_type": "stream",
     "text": [
      "100%|██████████| 94/94 [00:03<00:00, 24.34it/s]\n"
     ]
    },
    {
     "name": "stdout",
     "output_type": "stream",
     "text": [
      "tensor(0.9752) tensor(0.9986)\n",
      "tensor(0.9752) tensor(0.9986)\n",
      "Correlation Dice: 0.34463590383529663 | Correlation Surface: 0.141238272190094\n",
      "test_domain: Avanto\n"
     ]
    },
    {
     "name": "stderr",
     "output_type": "stream",
     "text": [
      "100%|██████████| 695/695 [00:29<00:00, 23.95it/s]\n"
     ]
    },
    {
     "name": "stdout",
     "output_type": "stream",
     "text": [
      "tensor(0.9703) tensor(0.9992)\n",
      "tensor(0.9703) tensor(0.9992)\n",
      "Correlation Dice: 0.23627662658691406 | Correlation Surface: 0.23752176761627197\n",
      "test_domain: HDxt\n"
     ]
    },
    {
     "name": "stderr",
     "output_type": "stream",
     "text": [
      "100%|██████████| 426/426 [00:18<00:00, 23.29it/s]\n"
     ]
    },
    {
     "name": "stdout",
     "output_type": "stream",
     "text": [
      "tensor(0.9447) tensor(0.9990)\n",
      "tensor(0.9447) tensor(0.9990)\n",
      "Correlation Dice: 0.2559165060520172 | Correlation Surface: 0.27786508202552795\n",
      "test_domain: EXCITE\n"
     ]
    },
    {
     "name": "stderr",
     "output_type": "stream",
     "text": [
      "100%|██████████| 459/459 [00:19<00:00, 23.71it/s]\n"
     ]
    },
    {
     "name": "stdout",
     "output_type": "stream",
     "text": [
      "tensor(0.9614) tensor(0.9983)\n",
      "tensor(0.9614) tensor(0.9983)\n",
      "Correlation Dice: 0.25722527503967285 | Correlation Surface: 0.3126246929168701\n",
      "test_domain: Explorer\n"
     ]
    },
    {
     "name": "stderr",
     "output_type": "stream",
     "text": [
      "100%|██████████| 18/18 [00:00<00:00, 23.35it/s]\n"
     ]
    },
    {
     "name": "stdout",
     "output_type": "stream",
     "text": [
      "tensor(0.9884) tensor(0.9963)\n",
      "tensor(0.9884) tensor(0.9963)\n",
      "Correlation Dice: 0.4669869542121887 | Correlation Surface: 0.5198052525520325\n",
      "test_domain: Achieva\n"
     ]
    },
    {
     "name": "stderr",
     "output_type": "stream",
     "text": [
      "100%|██████████| 1422/1422 [01:01<00:00, 23.24it/s]"
     ]
    },
    {
     "name": "stdout",
     "output_type": "stream",
     "text": [
      "tensor(0.9661) tensor(0.9994)\n",
      "tensor(0.9661) tensor(0.9994)\n",
      "Correlation Dice: 0.11796378344297409 | Correlation Surface: 0.14833880960941315\n"
     ]
    },
    {
     "name": "stderr",
     "output_type": "stream",
     "text": [
      "\n"
     ]
    }
   ],
   "source": [
    "### OOD EVAL\n",
    "\n",
    "\n",
    "UNET_CKPTS = {\n",
    "    \"mnmv2\": 'mnmv2_symphony_dropout-0-1_2025-01-14-15-19', \n",
    "    'pmri': 'pmri_runmc_dropout-0-1_2025-01-14-15-58',\n",
    "}\n",
    "\n",
    "batch_size = 15\n",
    "\n",
    "eval_metrics = {\n",
    "    'dice': dice_per_class_loss,\n",
    "    'surface': surface_loss\n",
    "}\n",
    "\n",
    "unet_cfg = OmegaConf.load('../configs/unet/monai_unet.yaml')\n",
    "\n",
    "for it in range(0, 1):\n",
    "\n",
    "    for dataset in ['mnmv2']:\n",
    "        print(f\"Dataset: {dataset}\")\n",
    "\n",
    "        if dataset == 'mnmv2':\n",
    "            unet_cfg.out_channels = 4\n",
    "            num_classes = 4\n",
    "            data_cfg = OmegaConf.load('../configs/data/mnmv2.yaml')\n",
    "            domain = 'Symphony'\n",
    "\n",
    "        else:\n",
    "            unet_cfg.out_channels = 1\n",
    "            num_classes = 2\n",
    "            data_cfg = OmegaConf.load('../configs/data/pmri.yaml')\n",
    "            domain = 'RUNMC'\n",
    "            sigma = 6.9899\n",
    "\n",
    "        # for domain in ['siemens', 'ge', 'philips']:\n",
    "        print(f\"Train Vendor: {domain}\")\n",
    "        results = {}\n",
    "        data_cfg.dataset = dataset\n",
    "        data_cfg.domain = domain\n",
    "        data_cfg.non_empty_target = True\n",
    "\n",
    "        # if it == 0:\n",
    "        datamodule = get_data_module(\n",
    "            cfg=data_cfg\n",
    "        )\n",
    "\n",
    "        datamodule.setup('test')\n",
    "\n",
    "        ckpt = UNET_CKPTS[data_cfg.dataset]\n",
    "        unet_cfg.checkpoint_path = f'../../{unet_cfg.checkpoint_dir}{ckpt}.ckpt'\n",
    "        unet_cfg.dropout = 0.1\n",
    "\n",
    "        unet = get_unet_module(\n",
    "            cfg=unet_cfg,\n",
    "            metadata=OmegaConf.to_container(unet_cfg),\n",
    "            load_from_checkpoint=True\n",
    "        ).model\n",
    "\n",
    "        for test_domain, test_dl in datamodule.test_dataloader().items():\n",
    "\n",
    "            if 'train' in test_domain or 'val' in test_domain:\n",
    "                continue\n",
    "\n",
    "            test_dataset = test_dl.dataset\n",
    "            test_dl = DataLoader(\n",
    "                test_dataset,\n",
    "                batch_size=1,\n",
    "                shuffle=False,\n",
    "            )\n",
    "            print(f\"test_domain: {test_domain}\")\n",
    "            scores = {\n",
    "                'dice': [],\n",
    "                'surface': [],\n",
    "                'dice_agreement': [],\n",
    "                'surface_agreement': []\n",
    "            }\n",
    "\n",
    "            manual_seed(it)\n",
    "            for batch in tqdm(test_dl):\n",
    "                input = batch['input'].repeat(batch_size, 1, 1 ,1)\n",
    "                target = batch['target']\n",
    "\n",
    "                unet.eval()\n",
    "                logits = unet(input[:1].cuda())\n",
    "                for m in unet.modules():\n",
    "                    if m.__class__.__name__.startswith('Dropout'):\n",
    "                        m.train()\n",
    "                \n",
    "                logits_dropout = unet(input.cuda())\n",
    "            \n",
    "                num_classes = max(logits_dropout.shape[1], 2)\n",
    "                if num_classes > 2:\n",
    "                    predictions = logits.argmax(1, keepdim=True)\n",
    "                    predictions_dropout = logits_dropout.argmax(1, keepdim=True)\n",
    "                    probs = softmax(logits_dropout, dim=1)\n",
    "                    \n",
    "                else:\n",
    "                    predictions = (logits > 0) * 1\n",
    "                    predictions_dropout = (logits_dropout > 0) * 1\n",
    "                    probs = sigmoid(logits_dropout)\n",
    "                    probs = cat([1 - probs, probs], dim=1)\n",
    "\n",
    "                entropy = 1 - (entr(probs.mean(0)).sum(0).mean() / sqrt(tensor(num_classes)))\n",
    "\n",
    "                # dice_agreement = pairwise_dice(predictions_dropout, num_classes=num_classes)\n",
    "                # surface_agreement = pairwise_surface_dice(predictions_dropout, num_classes=num_classes)\n",
    "                scores['dice_agreement'].append(entropy.detach().cpu().view(1,))\n",
    "                scores['surface_agreement'].append(entropy.detach().cpu().view(1,))\n",
    "\n",
    "                for key, fn in eval_metrics.items():\n",
    "                    _, _, true_score = fn(\n",
    "                        predicted_segmentation=predictions, \n",
    "                        target_segmentation=target.cuda(),\n",
    "                        prediction=zeros((input.size(0), 1, num_classes)).cuda(),\n",
    "                        num_classes=num_classes,\n",
    "                        sigma=0,\n",
    "                        return_scores=True\n",
    "                    )\n",
    "\n",
    "                    scores[key].append(true_score.squeeze(1).detach().cpu())\n",
    "\n",
    "            scores = {\n",
    "                key: cat(scores[key]) for key in scores.keys()\n",
    "            }\n",
    "\n",
    "            # calculate correlation between entropy and dice/hausdorff\n",
    "            corr_dice = corrcoef(stack([scores['dice_agreement'], scores['dice']], dim=0))[0,1]\n",
    "            corr_surface = corrcoef(stack([scores['surface_agreement'], scores['surface']], dim=0))[0,1]\n",
    "            results[test_domain] = {\n",
    "                'scores': scores,\n",
    "            }\n",
    "\n",
    "            print(f\"Correlation Dice: {corr_dice} | Correlation Surface: {corr_surface}\")\n",
    "\n",
    "        save(results, f'../../results/{dataset}_{domain}_aggregated-PE-{batch_size}-{it}.pt')\n"
   ]
  },
  {
   "cell_type": "code",
   "execution_count": 29,
   "metadata": {},
   "outputs": [],
   "source": [
    "pmri_results = load('../../results/pmri_RUNMC_aggregated-PE-15-0.pt')\n",
    "mnmv2_results = load('../../results/mnmv2_Symphony_aggregated-PE-15-0.pt')"
   ]
  },
  {
   "cell_type": "code",
   "execution_count": 43,
   "metadata": {},
   "outputs": [
    {
     "name": "stdout",
     "output_type": "stream",
     "text": [
      "PMRI Dice Correlation: 0.2583 | PMRI Surface Correlation: 0.2898\n"
     ]
    }
   ],
   "source": [
    "dice_corrs = []\n",
    "surface_corrs = []\n",
    "\n",
    "for domain in pmri_results.keys():\n",
    "    scores = pmri_results[domain]['scores']\n",
    "    dice_corrs.append(corrcoef(stack([scores['dice_agreement'], scores['dice']], dim=0))[0,1])\n",
    "    surface_corrs.append(corrcoef(stack([scores['surface_agreement'], scores['surface']], dim=0))[0,1])\n",
    "\n",
    "print(f\"PMRI Dice Correlation: {np.mean(dice_corrs):.4f} | PMRI Surface Correlation: {np.mean(surface_corrs):.4f}\")"
   ]
  },
  {
   "cell_type": "code",
   "execution_count": 44,
   "metadata": {},
   "outputs": [
    {
     "data": {
      "text/plain": [
       "[tensor(0.2442),\n",
       " tensor(-0.0421),\n",
       " tensor(0.5589),\n",
       " tensor(0.1281),\n",
       " tensor(0.5598)]"
      ]
     },
     "execution_count": 44,
     "metadata": {},
     "output_type": "execute_result"
    }
   ],
   "source": [
    "surface_corrs"
   ]
  },
  {
   "cell_type": "code",
   "execution_count": 42,
   "metadata": {},
   "outputs": [
    {
     "name": "stdout",
     "output_type": "stream",
     "text": [
      "MNMV2 Dice Correlation: 0.2798 | MNMV2 Surface Correlation: 0.2729\n"
     ]
    }
   ],
   "source": [
    "dice_corrs = []\n",
    "surface_corrs = []\n",
    "\n",
    "for domain in mnmv2_results.keys():\n",
    "    scores = mnmv2_results[domain]['scores']\n",
    "    dice_corrs.append(corrcoef(stack([scores['dice_agreement'], scores['dice']], dim=0))[0,1])\n",
    "    surface_corrs.append(corrcoef(stack([scores['surface_agreement'], scores['surface']], dim=0))[0,1])\n",
    "\n",
    "print(f\"MNMV2 Dice Correlation: {np.mean(dice_corrs):.4f} | MNMV2 Surface Correlation: {np.mean(surface_corrs):.4f}\")"
   ]
  },
  {
   "cell_type": "code",
   "execution_count": null,
   "metadata": {},
   "outputs": [],
   "source": []
  }
 ],
 "metadata": {
  "kernelspec": {
   "display_name": "Python 3",
   "language": "python",
   "name": "python3"
  },
  "language_info": {
   "codemirror_mode": {
    "name": "ipython",
    "version": 3
   },
   "file_extension": ".py",
   "mimetype": "text/x-python",
   "name": "python",
   "nbconvert_exporter": "python",
   "pygments_lexer": "ipython3",
   "version": "3.10.12"
  }
 },
 "nbformat": 4,
 "nbformat_minor": 2
}
